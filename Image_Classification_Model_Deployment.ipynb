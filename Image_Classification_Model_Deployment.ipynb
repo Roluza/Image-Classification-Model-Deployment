{
  "nbformat": 4,
  "nbformat_minor": 0,
  "metadata": {
    "colab": {
      "provenance": [],
      "gpuType": "T4"
    },
    "kernelspec": {
      "name": "python3",
      "display_name": "Python 3"
    },
    "language_info": {
      "name": "python"
    },
    "accelerator": "GPU"
  },
  "cells": [
    {
      "cell_type": "code",
      "execution_count": 1,
      "metadata": {
        "id": "Ea_aNwhzHCWQ"
      },
      "outputs": [],
      "source": [
        "!pip install -q kaggle"
      ]
    },
    {
      "cell_type": "code",
      "source": [
        "!mkdir ~/.kaggle"
      ],
      "metadata": {
        "id": "BCqA-YzNHoCq"
      },
      "execution_count": 2,
      "outputs": []
    },
    {
      "cell_type": "code",
      "source": [
        "!cp kaggle.json ~/.kaggle"
      ],
      "metadata": {
        "id": "w0pIHHJ4H4Kf"
      },
      "execution_count": 3,
      "outputs": []
    },
    {
      "cell_type": "code",
      "source": [
        "!chmod 600 ~/.kaggle/kaggle.json"
      ],
      "metadata": {
        "id": "Ebi7JJDsIDMs"
      },
      "execution_count": 4,
      "outputs": []
    },
    {
      "cell_type": "code",
      "source": [
        "!pip install opendatasets\n",
        "\n",
        "import opendatasets as od\n",
        "od.download(\"https://www.kaggle.com/datasets/muratkokludataset/rice-image-dataset\")"
      ],
      "metadata": {
        "colab": {
          "base_uri": "https://localhost:8080/"
        },
        "id": "DoSYPvUBIT4y",
        "outputId": "32227989-eec9-4cd5-f31c-a3da0fb3b1b6"
      },
      "execution_count": 5,
      "outputs": [
        {
          "output_type": "stream",
          "name": "stdout",
          "text": [
            "Collecting opendatasets\n",
            "  Downloading opendatasets-0.1.22-py3-none-any.whl (15 kB)\n",
            "Requirement already satisfied: tqdm in /usr/local/lib/python3.10/dist-packages (from opendatasets) (4.66.1)\n",
            "Requirement already satisfied: kaggle in /usr/local/lib/python3.10/dist-packages (from opendatasets) (1.5.16)\n",
            "Requirement already satisfied: click in /usr/local/lib/python3.10/dist-packages (from opendatasets) (8.1.7)\n",
            "Requirement already satisfied: six>=1.10 in /usr/local/lib/python3.10/dist-packages (from kaggle->opendatasets) (1.16.0)\n",
            "Requirement already satisfied: certifi in /usr/local/lib/python3.10/dist-packages (from kaggle->opendatasets) (2023.11.17)\n",
            "Requirement already satisfied: python-dateutil in /usr/local/lib/python3.10/dist-packages (from kaggle->opendatasets) (2.8.2)\n",
            "Requirement already satisfied: requests in /usr/local/lib/python3.10/dist-packages (from kaggle->opendatasets) (2.31.0)\n",
            "Requirement already satisfied: python-slugify in /usr/local/lib/python3.10/dist-packages (from kaggle->opendatasets) (8.0.2)\n",
            "Requirement already satisfied: urllib3 in /usr/local/lib/python3.10/dist-packages (from kaggle->opendatasets) (2.0.7)\n",
            "Requirement already satisfied: bleach in /usr/local/lib/python3.10/dist-packages (from kaggle->opendatasets) (6.1.0)\n",
            "Requirement already satisfied: webencodings in /usr/local/lib/python3.10/dist-packages (from bleach->kaggle->opendatasets) (0.5.1)\n",
            "Requirement already satisfied: text-unidecode>=1.3 in /usr/local/lib/python3.10/dist-packages (from python-slugify->kaggle->opendatasets) (1.3)\n",
            "Requirement already satisfied: charset-normalizer<4,>=2 in /usr/local/lib/python3.10/dist-packages (from requests->kaggle->opendatasets) (3.3.2)\n",
            "Requirement already satisfied: idna<4,>=2.5 in /usr/local/lib/python3.10/dist-packages (from requests->kaggle->opendatasets) (3.6)\n",
            "Installing collected packages: opendatasets\n",
            "Successfully installed opendatasets-0.1.22\n",
            "Downloading rice-image-dataset.zip to ./rice-image-dataset\n"
          ]
        },
        {
          "output_type": "stream",
          "name": "stderr",
          "text": [
            "100%|██████████| 219M/219M [00:01<00:00, 187MB/s]\n"
          ]
        },
        {
          "output_type": "stream",
          "name": "stdout",
          "text": [
            "\n"
          ]
        }
      ]
    },
    {
      "cell_type": "code",
      "source": [
        "import tensorflow as tf\n",
        "print(tf.__version__)"
      ],
      "metadata": {
        "colab": {
          "base_uri": "https://localhost:8080/"
        },
        "id": "Mc5yNJNQIljm",
        "outputId": "04efde07-57b0-410f-97a8-8a6fb3f0febd"
      },
      "execution_count": 6,
      "outputs": [
        {
          "output_type": "stream",
          "name": "stdout",
          "text": [
            "2.15.0\n"
          ]
        }
      ]
    },
    {
      "cell_type": "code",
      "source": [
        "base_dir = 'rice-image-dataset/Rice_Image_Dataset'"
      ],
      "metadata": {
        "id": "HksfTd-vJc87"
      },
      "execution_count": 45,
      "outputs": []
    },
    {
      "cell_type": "code",
      "source": [
        "import os\n",
        "\n",
        "# Daftar semua file dan folder dalam base_dir\n",
        "files_and_folders = os.listdir(base_dir)\n",
        "\n",
        "# Loop melalui setiap file/folder\n",
        "for item in files_and_folders:\n",
        "    # Periksa apakah nama file/folder berisi \".ipynb_checkpoints\"\n",
        "    if \".ipynb_checkpoints\" in item:\n",
        "        # Gabungkan nama file/folder dengan base_dir untuk mendapatkan path lengkapnya\n",
        "        item_path = os.path.join(base_dir, item)\n",
        "        # Periksa apakah itu direktori\n",
        "        if os.path.isdir(item_path):\n",
        "            # Hapus direktori\n",
        "            os.rmdir(item_path)\n",
        "        else:\n",
        "            # Jika bukan direktori, maka itu adalah file, hapus file\n",
        "            os.remove(item_path)"
      ],
      "metadata": {
        "id": "C6W0XCbOKpPc"
      },
      "execution_count": 13,
      "outputs": []
    },
    {
      "cell_type": "code",
      "source": [
        "os.listdir(base_dir)"
      ],
      "metadata": {
        "colab": {
          "base_uri": "https://localhost:8080/"
        },
        "id": "anZYz86rKO4K",
        "outputId": "58a1d6e0-cb9f-40dc-abb2-252b3a79fe6c"
      },
      "execution_count": 46,
      "outputs": [
        {
          "output_type": "execute_result",
          "data": {
            "text/plain": [
              "['Jasmine', 'Arborio', 'Ipsala', 'Karacadag', 'Basmati']"
            ]
          },
          "metadata": {},
          "execution_count": 46
        }
      ]
    },
    {
      "cell_type": "code",
      "source": [
        "categories = os.listdir(base_dir)\n",
        "for category in categories:\n",
        "    category_dir = os.path.join(base_dir, category)\n",
        "    num_samples = len(os.listdir(category_dir))\n",
        "    print(f\"Kategori '{category}' memiliki {num_samples} sampel.\")"
      ],
      "metadata": {
        "colab": {
          "base_uri": "https://localhost:8080/"
        },
        "id": "sfKsWWQLeT8C",
        "outputId": "fe766a25-68bd-402a-fb87-4b740c28be40"
      },
      "execution_count": 48,
      "outputs": [
        {
          "output_type": "stream",
          "name": "stdout",
          "text": [
            "Kategori 'Jasmine' memiliki 15000 sampel.\n",
            "Kategori 'Arborio' memiliki 15000 sampel.\n",
            "Kategori 'Ipsala' memiliki 15000 sampel.\n",
            "Kategori 'Karacadag' memiliki 15000 sampel.\n",
            "Kategori 'Basmati' memiliki 15000 sampel.\n"
          ]
        }
      ]
    },
    {
      "cell_type": "code",
      "source": [
        "from keras.preprocessing.image import ImageDataGenerator\n",
        "\n",
        "train_datagen = ImageDataGenerator(\n",
        "                    rescale=1./255,\n",
        "                    rotation_range=20,\n",
        "                    horizontal_flip=True,\n",
        "                    shear_range = 0.2,\n",
        "                    fill_mode = 'wrap',\n",
        "                    validation_split=0.2\n",
        "                    )\n",
        "\n",
        "test_datagen = ImageDataGenerator(\n",
        "                    rescale=1./255,\n",
        "                    )\n",
        "\n",
        "train_generator = train_datagen.flow_from_directory(\n",
        "    base_dir,\n",
        "    target_size=(150, 150),\n",
        "    class_mode='categorical',\n",
        "    subset='training'  # Memilih subset latih\n",
        ")\n",
        "\n",
        "validation_generator = train_datagen.flow_from_directory(\n",
        "    base_dir,\n",
        "    target_size=(150, 150),\n",
        "    class_mode='categorical',\n",
        "    subset='validation'  # Memilih subset validasi\n",
        ")"
      ],
      "metadata": {
        "colab": {
          "base_uri": "https://localhost:8080/"
        },
        "id": "mb1RtIzlJCRb",
        "outputId": "a4dc9865-2618-4901-dc64-f8df4608d965"
      },
      "execution_count": 44,
      "outputs": [
        {
          "output_type": "stream",
          "name": "stdout",
          "text": [
            "Found 60000 images belonging to 5 classes.\n",
            "Found 15000 images belonging to 5 classes.\n"
          ]
        }
      ]
    },
    {
      "cell_type": "code",
      "source": [
        "model = tf.keras.models.Sequential([\n",
        "    tf.keras.layers.Conv2D(32, (3,3), activation='relu', input_shape=(150, 150, 3)),\n",
        "    tf.keras.layers.MaxPooling2D(2, 2),\n",
        "    tf.keras.layers.Conv2D(64, (3,3), activation='relu'),\n",
        "    tf.keras.layers.MaxPooling2D(2,2),\n",
        "    tf.keras.layers.Conv2D(128, (3,3), activation='relu'),\n",
        "    tf.keras.layers.MaxPooling2D(2,2),\n",
        "    tf.keras.layers.Conv2D(512, (3,3), activation='relu'),\n",
        "    tf.keras.layers.MaxPooling2D(2,2),\n",
        "    tf.keras.layers.Flatten(),\n",
        "    tf.keras.layers.Dense(512, activation='relu'),\n",
        "    tf.keras.layers.Dense(5, activation='softmax')\n",
        "])"
      ],
      "metadata": {
        "id": "kk3ojZu8LgJP"
      },
      "execution_count": 49,
      "outputs": []
    },
    {
      "cell_type": "code",
      "source": [
        "class myCallback(tf.keras.callbacks.Callback):\n",
        "  def on_epoch_end(self, epoch, logs={}):\n",
        "    if(logs.get('accuracy') > 0.93 and logs.get('val_accuracy') > 0.93):\n",
        "      print(\"Accuracy is more than 92%\")\n",
        "      self.model.stop_training = True\n",
        "callbacks = myCallback()"
      ],
      "metadata": {
        "id": "qtPLUh78Mm6N"
      },
      "execution_count": 51,
      "outputs": []
    },
    {
      "cell_type": "code",
      "source": [
        "# compile model dengan 'adam' optimizer loss function 'categorical_crossentropy'\n",
        "model.compile(loss='categorical_crossentropy',\n",
        "              optimizer=tf.optimizers.Adam(),\n",
        "              metrics=['accuracy'])\n",
        "\n",
        "# latih model dengan model.fit\n",
        "hist = model.fit(\n",
        "    train_generator,\n",
        "    steps_per_epoch=25,  # berapa batch yang akan dieksekusi pada setiap epoch\n",
        "    epochs=50, # tambahkan epochs jika akurasi model belum optimal\n",
        "    validation_data=validation_generator, # menampilkan akurasi pengujian data validasi\n",
        "    validation_steps=20,  # berapa batch yang akan dieksekusi pada setiap epoch\n",
        "    verbose=2,\n",
        "    callbacks=[callbacks]\n",
        ")"
      ],
      "metadata": {
        "colab": {
          "base_uri": "https://localhost:8080/"
        },
        "id": "cboci8_pOYZf",
        "outputId": "3d38006e-ae30-4ae6-ee9a-e2261ea8dc19"
      },
      "execution_count": 52,
      "outputs": [
        {
          "output_type": "stream",
          "name": "stdout",
          "text": [
            "Epoch 1/50\n",
            "25/25 - 12s - loss: 0.6598 - accuracy: 0.7688 - val_loss: 0.5153 - val_accuracy: 0.8484 - 12s/epoch - 497ms/step\n",
            "Epoch 2/50\n",
            "25/25 - 10s - loss: 0.3358 - accuracy: 0.8888 - val_loss: 0.1911 - val_accuracy: 0.9219 - 10s/epoch - 385ms/step\n",
            "Epoch 3/50\n",
            "25/25 - 10s - loss: 0.2351 - accuracy: 0.9150 - val_loss: 0.1809 - val_accuracy: 0.9281 - 10s/epoch - 382ms/step\n",
            "Epoch 4/50\n",
            "25/25 - 9s - loss: 0.2398 - accuracy: 0.9162 - val_loss: 0.2305 - val_accuracy: 0.9125 - 9s/epoch - 364ms/step\n",
            "Epoch 5/50\n",
            "Accuracy is more than 92%\n",
            "25/25 - 10s - loss: 0.1998 - accuracy: 0.9337 - val_loss: 0.1772 - val_accuracy: 0.9328 - 10s/epoch - 415ms/step\n"
          ]
        }
      ]
    },
    {
      "cell_type": "code",
      "source": [
        "import matplotlib.pyplot as plt\n",
        "\n",
        "plt.plot(hist.history['loss'])\n",
        "plt.plot(hist.history['val_loss'])\n",
        "plt.title('Model loss')\n",
        "plt.legend(['loss', 'Val_loss'],  loc='upper right')\n",
        "plt.show()"
      ],
      "metadata": {
        "colab": {
          "base_uri": "https://localhost:8080/",
          "height": 452
        },
        "id": "KrEb7mCAOjki",
        "outputId": "75c22105-a717-48dc-eeba-35b5494a4081"
      },
      "execution_count": 53,
      "outputs": [
        {
          "output_type": "display_data",
          "data": {
            "text/plain": [
              "<Figure size 640x480 with 1 Axes>"
            ],
            "image/png": "[encoded data removed]"
          },
          "metadata": {}
        }
      ]
    },
    {
      "cell_type": "code",
      "source": [
        "plt.plot(hist.history['accuracy'])\n",
        "plt.plot(hist.history['val_accuracy'])\n",
        "plt.title('Model accuracy')\n",
        "plt.legend(['Accuracy', 'Val_accuracy'],  loc='upper right')\n",
        "plt.show()"
      ],
      "metadata": {
        "colab": {
          "base_uri": "https://localhost:8080/",
          "height": 452
        },
        "id": "R3OyaZs_QrPn",
        "outputId": "59ea5fef-69b8-4571-8ef8-f914554f2847"
      },
      "execution_count": 54,
      "outputs": [
        {
          "output_type": "display_data",
          "data": {
            "text/plain": [
              "<Figure size 640x480 with 1 Axes>"
            ],
            "image/png": "[encoded data removed]"
          },
          "metadata": {}
        }
      ]
    },
    {
      "cell_type": "code",
      "source": [
        "# Convert the model.\n",
        "converter = tf.lite.TFLiteConverter.from_keras_model(model)\n",
        "tflite_model = converter.convert()\n",
        "\n",
        "# Save the model.\n",
        "with open('model.tflite', 'wb') as f:\n",
        "  f.write(tflite_model)"
      ],
      "metadata": {
        "id": "F6al1btaQvxp"
      },
      "execution_count": 55,
      "outputs": []
    }
  ]
}